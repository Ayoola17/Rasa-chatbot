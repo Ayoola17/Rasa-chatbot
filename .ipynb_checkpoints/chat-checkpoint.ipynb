{
 "cells": [
  {
   "cell_type": "code",
   "execution_count": 1,
   "metadata": {},
   "outputs": [],
   "source": [
    "import requests"
   ]
  },
  {
   "cell_type": "code",
   "execution_count": 3,
   "metadata": {},
   "outputs": [
    {
     "name": "stdout",
     "output_type": "stream",
     "text": [
      "You: hi\n"
     ]
    }
   ],
   "source": [
    "# The endpoint of the Rasa server, adjust if you host it somewhere else\n",
    "rasa_endpoint = 'http://localhost:5005/webhooks/rest/webhook'\n",
    "\n",
    "# Function to send a message to Rasa and receive the response\n",
    "def chat_with_rasa(message_text):\n",
    "    # The payload to send to the Rasa server\n",
    "    payload = {\n",
    "        \"sender\": \"test_user\",  # Sender ID to keep track of the conversation context\n",
    "        \"message\": message_text\n",
    "    }\n",
    "\n",
    "    # Send the POST request\n",
    "    response = requests.post(rasa_endpoint, json=payload)\n",
    "\n",
    "    # Check if the request was successful\n",
    "    if response.status_code == 200:\n",
    "        return response.json()  # Returns the response as a JSON object\n",
    "    else:\n",
    "        return response.text  # If an error occurred, return the error message\n",
    "\n",
    "# Example usage\n",
    "if __name__ == \"__main__\":\n",
    "    user_message = input(\"You: \")\n",
    "    bot_responses = chat_with_rasa(user_message)\n",
    "    for response in bot_responses:\n",
    "        print(f\"Bot: {response['text']}\")\n"
   ]
  },
  {
   "cell_type": "code",
   "execution_count": null,
   "metadata": {},
   "outputs": [],
   "source": []
  }
 ],
 "metadata": {
  "kernelspec": {
   "display_name": "Python 3 (ipykernel)",
   "language": "python",
   "name": "python3"
  },
  "language_info": {
   "codemirror_mode": {
    "name": "ipython",
    "version": 3
   },
   "file_extension": ".py",
   "mimetype": "text/x-python",
   "name": "python",
   "nbconvert_exporter": "python",
   "pygments_lexer": "ipython3",
   "version": "3.11.5"
  }
 },
 "nbformat": 4,
 "nbformat_minor": 2
}
